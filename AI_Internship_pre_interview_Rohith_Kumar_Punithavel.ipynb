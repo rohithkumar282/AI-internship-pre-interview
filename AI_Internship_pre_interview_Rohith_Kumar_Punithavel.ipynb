{
  "nbformat": 4,
  "nbformat_minor": 0,
  "metadata": {
    "colab": {
      "name": "AI Internship pre interview Rohith Kumar Punithavel.ipynb",
      "provenance": [],
      "collapsed_sections": []
    },
    "kernelspec": {
      "name": "python3",
      "display_name": "Python 3"
    }
  },
  "cells": [
    {
      "cell_type": "code",
      "metadata": {
        "id": "SpTejNFdDAjk",
        "colab_type": "code",
        "colab": {}
      },
      "source": [
        "'''\n",
        "Program Description : Construct a class to create tensors of desired shape using nested lists\n",
        "Input : \n",
        "      Variable - Type  - Datatype\n",
        "   1. Data     -  List - int/float\n",
        "   2. Shape    -  List - unsigned int\n",
        "Output :\n",
        "      Variable - Type  - Datatype\n",
        "     1. Tensor - List - int/float\n",
        "\n",
        "Author: Rohith Kumar Punithavel, rpunitha@asu.edu\n",
        "'''\n",
        "\n",
        "class Tensor():\n",
        "  # Class constructor\n",
        "  def __init__(self):\n",
        "    self.data = []\n",
        "    self.shape = []\n",
        "    self.tensor = []\n",
        "\n",
        "  #Class constructor - parameterized  \n",
        "  def __init__(self, data, shape):\n",
        "    self.data = data\n",
        "    self.shape = shape\n",
        "    self.tensor = []\n",
        "\n",
        "  # Method to reshape the data\n",
        "  def shape_data(self, key=0):\n",
        "    #variable initialisation to store intermediate length of tensor\n",
        "    pro=1\n",
        "    \n",
        "    #returns element if length of shape is 1\n",
        "    if len(self.shape) == 1:\n",
        "      return self.data[:self.shape[0]]\n",
        "    \n",
        "    #loop to calculate number of elements traversing each dimension\n",
        "    for ele in range(1,len(self.shape)):\n",
        "      pro = pro*self.shape[ele]\n",
        "    \n",
        "    #key flag to process the list\n",
        "    if key==0:\n",
        "      #variable initialisation to calculate total number of elements\n",
        "      pro1=1\n",
        "      #calculate total number of elements in tensor\n",
        "      for ele in self.shape:\n",
        "        pro1 = pro1*ele\n",
        "      #pad with zeros if elements are insufficient  \n",
        "      if pro1 > len(self.data):\n",
        "        self.data = self.data+[0]*(pro1-len(self.data))\n",
        "      #cut off elements beyond length of tensor\n",
        "      else:\n",
        "        self.data = self.data[:pro1]\n",
        "    \n",
        "    #recursive call to method shape_data() along with key flag to generate the required output\n",
        "    self.tensor = [Tensor(self.data[i*pro:(i+1)*pro], self.shape[1:]).shape_data(key=1) for i in range(int(len(self.data)/pro))]\n",
        "\n",
        "    #return the reshaped tensor\n",
        "    return self.tensor\n",
        "\n",
        "  # Method to display data\n",
        "  def display(self):\n",
        "    print('Information on I/P and O/P:')\n",
        "    print('Data   (I/P) :', self.data)\n",
        "    print('Shape  (I/P) :', self.shape)\n",
        "    print('Tensor (O/P) :', self.tensor)"
      ],
      "execution_count": 1,
      "outputs": []
    },
    {
      "cell_type": "markdown",
      "metadata": {
        "id": "XnaLAlpJm2p4",
        "colab_type": "text"
      },
      "source": [
        "Sample I/O"
      ]
    },
    {
      "cell_type": "code",
      "metadata": {
        "id": "Ttyw7zuHTQj2",
        "colab_type": "code",
        "colab": {
          "base_uri": "https://localhost:8080/",
          "height": 34
        },
        "outputId": "b8e0551d-9840-4270-bfcb-922fd614e342"
      },
      "source": [
        "# input\n",
        "data0 = [0, 1, 2, 3, 4, 5, 0.1, 0.2, -3]\n",
        "shape0 = [2, 3, 2]\n",
        "\n",
        "#class_initialization\n",
        "tensor0 = Tensor(data0, shape0)\n",
        "\n",
        "#calling function to reshape data\n",
        "generated_op = tensor0.shape_data()\n",
        "print('Generated Output : ', generated_op)"
      ],
      "execution_count": 2,
      "outputs": [
        {
          "output_type": "stream",
          "text": [
            "Generated Output :  [[[0, 1], [2, 3], [4, 5]], [[0.1, 0.2], [-3, 0], [0, 0]]]\n"
          ],
          "name": "stdout"
        }
      ]
    },
    {
      "cell_type": "code",
      "metadata": {
        "id": "2li_7z1QT4zi",
        "colab_type": "code",
        "colab": {
          "base_uri": "https://localhost:8080/",
          "height": 84
        },
        "outputId": "1b4ae8e4-446f-4c06-c824-800c4c8320a7"
      },
      "source": [
        "# Display function\n",
        "tensor0.display()"
      ],
      "execution_count": 3,
      "outputs": [
        {
          "output_type": "stream",
          "text": [
            "Information on I/P and O/P:\n",
            "Data   (I/P) : [0, 1, 2, 3, 4, 5, 0.1, 0.2, -3, 0, 0, 0]\n",
            "Shape  (I/P) : [2, 3, 2]\n",
            "Tensor (O/P) : [[[0, 1], [2, 3], [4, 5]], [[0.1, 0.2], [-3, 0], [0, 0]]]\n"
          ],
          "name": "stdout"
        }
      ]
    },
    {
      "cell_type": "code",
      "metadata": {
        "id": "_xJX8beBPmF0",
        "colab_type": "code",
        "colab": {
          "base_uri": "https://localhost:8080/",
          "height": 34
        },
        "outputId": "aa950d7a-e7c1-476d-c7b9-b7b699af036c"
      },
      "source": [
        "# input\n",
        "data1 = [0, 1, 2, 3, 4, 5, 0.1, 0.2, -3, -2, -1, 3, 2, 1]\n",
        "shape1 = [5,2]\n",
        "\n",
        "#class_initialization\n",
        "tensor1 = Tensor(data1, shape1)\n",
        "\n",
        "#calling function to reshape data\n",
        "generated_op = tensor1.shape_data()\n",
        "print('Generated Output : ', generated_op)"
      ],
      "execution_count": 4,
      "outputs": [
        {
          "output_type": "stream",
          "text": [
            "Generated Output :  [[0, 1], [2, 3], [4, 5], [0.1, 0.2], [-3, -2]]\n"
          ],
          "name": "stdout"
        }
      ]
    },
    {
      "cell_type": "code",
      "metadata": {
        "id": "9HODakmxSwzk",
        "colab_type": "code",
        "colab": {
          "base_uri": "https://localhost:8080/",
          "height": 84
        },
        "outputId": "f1ffc985-83b4-45fe-fc75-33417d32874c"
      },
      "source": [
        "# Display function\n",
        "tensor1.display()"
      ],
      "execution_count": 5,
      "outputs": [
        {
          "output_type": "stream",
          "text": [
            "Information on I/P and O/P:\n",
            "Data   (I/P) : [0, 1, 2, 3, 4, 5, 0.1, 0.2, -3, -2]\n",
            "Shape  (I/P) : [5, 2]\n",
            "Tensor (O/P) : [[0, 1], [2, 3], [4, 5], [0.1, 0.2], [-3, -2]]\n"
          ],
          "name": "stdout"
        }
      ]
    }
  ]
}